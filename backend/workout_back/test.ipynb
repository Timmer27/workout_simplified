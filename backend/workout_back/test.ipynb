{
 "cells": [
  {
   "cell_type": "code",
   "execution_count": 7,
   "metadata": {},
   "outputs": [],
   "source": [
    "import pymysql\n",
    "from datetime import datetime\n",
    "\n",
    "conn = pymysql.connect(host='54.180.119.9', user='root1', password='1234', db='workout', charset='utf8')\n",
    "\n",
    "cur = conn.cursor()\n",
    "curr_date = datetime.now().strftime('%Y-%m-%d')\n",
    "\n",
    "sql = 'INSERT INTO user_info (name, File_name, uploaddate) VALUES(%s, %s, %s)'\n",
    "vals = ('이종ㅎ', 'test_image.jpg', curr_date)\n",
    "# vals = (name, file_name, curr_date)\n",
    "cur.execute(sql, vals)\n",
    "\n",
    "conn.commit()\n",
    "conn.close()"
   ]
  },
  {
   "cell_type": "code",
   "execution_count": 68,
   "metadata": {},
   "outputs": [
    {
     "data": {
      "text/plain": [
       "['조성수', 'test3.png']"
      ]
     },
     "execution_count": 68,
     "metadata": {},
     "output_type": "execute_result"
    }
   ],
   "source": [
    "import pymysql\n",
    "from datetime import datetime\n",
    "from collections import defaultdict\n",
    "\n",
    "conn = pymysql.connect(host='54.180.119.9', user='root1', password='1234', db='workout', charset='utf8')\n",
    "\n",
    "result_todayPic = defaultdict(list)\n",
    "sql_workoutToday = \"SELECT name, file_name FROM user_info WHERE uploaddate = DATE_FORMAT(NOW(), '%y-%m-%d')\"\n",
    "with conn:\n",
    "    with conn.cursor() as cur:\n",
    "        cur.execute(sql_workoutToday)\n",
    "        result = cur.fetchall()\n",
    "        for num, data in enumerate(result):\n",
    "            result_todayPic[num] = [data[0], data[1]]\n",
    "\n",
    "\n",
    "result_todayPic[0]"
   ]
  },
  {
   "cell_type": "code",
   "execution_count": 40,
   "metadata": {},
   "outputs": [
    {
     "data": {
      "text/plain": [
       "3"
      ]
     },
     "execution_count": 40,
     "metadata": {},
     "output_type": "execute_result"
    }
   ],
   "source": [
    "data[1]"
   ]
  },
  {
   "cell_type": "code",
   "execution_count": 28,
   "metadata": {},
   "outputs": [
    {
     "data": {
      "text/plain": [
       "'1681180132550706'"
      ]
     },
     "execution_count": 28,
     "metadata": {},
     "output_type": "execute_result"
    }
   ],
   "source": [
    "import time\n",
    "str(time.time()).replace('.', '')"
   ]
  },
  {
   "cell_type": "code",
   "execution_count": 33,
   "metadata": {},
   "outputs": [
    {
     "name": "stdout",
     "output_type": "stream",
     "text": [
      "AABBCC가나다123\n"
     ]
    }
   ],
   "source": [
    "import re\n",
    "\n",
    "str = \"AA**BB#@$CC 가나다-123\"\n",
    "\n",
    "new_str = re.sub(r\"[^\\uAC00-\\uD7A30-9a-zA-Z\\s]\", \"\", str).replace(' ', '')\n",
    "print(new_str)"
   ]
  },
  {
   "cell_type": "code",
   "execution_count": null,
   "metadata": {},
   "outputs": [],
   "source": []
  },
  {
   "cell_type": "code",
   "execution_count": null,
   "metadata": {},
   "outputs": [],
   "source": []
  },
  {
   "cell_type": "code",
   "execution_count": null,
   "metadata": {},
   "outputs": [],
   "source": []
  },
  {
   "cell_type": "code",
   "execution_count": 8,
   "metadata": {},
   "outputs": [
    {
     "data": {
      "text/plain": [
       "datetime.datetime"
      ]
     },
     "execution_count": 8,
     "metadata": {},
     "output_type": "execute_result"
    }
   ],
   "source": [
    "datetime.get"
   ]
  }
 ],
 "metadata": {
  "kernelspec": {
   "display_name": "Python 3",
   "language": "python",
   "name": "python3"
  },
  "language_info": {
   "codemirror_mode": {
    "name": "ipython",
    "version": 3
   },
   "file_extension": ".py",
   "mimetype": "text/x-python",
   "name": "python",
   "nbconvert_exporter": "python",
   "pygments_lexer": "ipython3",
   "version": "3.10.9"
  },
  "orig_nbformat": 4
 },
 "nbformat": 4,
 "nbformat_minor": 2
}
