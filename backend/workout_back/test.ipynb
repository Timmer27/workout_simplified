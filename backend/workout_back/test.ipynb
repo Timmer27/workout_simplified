{
 "cells": [
  {
   "cell_type": "code",
   "execution_count": 7,
   "metadata": {},
   "outputs": [],
   "source": [
    "import pymysql\n",
    "from datetime import datetime\n",
    "\n",
    "conn = pymysql.connect(host='54.180.119.9', user='root1', password='1234', db='workout', charset='utf8')\n",
    "\n",
    "cur = conn.cursor()\n",
    "\n",
    "curr_date = datetime.now().strftime('%Y-%m-%d')\n",
    "\n",
    "sql = 'INSERT INTO user_info (name, File_name, uploaddate) VALUES(%s, %s, %s)'\n",
    "vals = ('이종ㅎ', 'test_image.jpg', curr_date)\n",
    "# vals = (name, file_name, curr_date)\n",
    "cur.execute(sql, vals)\n",
    "\n",
    "conn.commit()\n",
    "conn.close()"
   ]
  },
  {
   "cell_type": "code",
   "execution_count": 6,
   "metadata": {},
   "outputs": [
    {
     "data": {
      "text/plain": [
       "'20230411'"
      ]
     },
     "execution_count": 6,
     "metadata": {},
     "output_type": "execute_result"
    }
   ],
   "source": [
    "from datetime import datetime\n",
    "\n",
    "curr_date = datetime.now().strftime('%Y-%m-%d')\n",
    "curr_date"
   ]
  },
  {
   "cell_type": "code",
   "execution_count": null,
   "metadata": {},
   "outputs": [],
   "source": []
  }
 ],
 "metadata": {
  "kernelspec": {
   "display_name": "Python 3",
   "language": "python",
   "name": "python3"
  },
  "language_info": {
   "codemirror_mode": {
    "name": "ipython",
    "version": 3
   },
   "file_extension": ".py",
   "mimetype": "text/x-python",
   "name": "python",
   "nbconvert_exporter": "python",
   "pygments_lexer": "ipython3",
   "version": "3.10.9"
  },
  "orig_nbformat": 4
 },
 "nbformat": 4,
 "nbformat_minor": 2
}
